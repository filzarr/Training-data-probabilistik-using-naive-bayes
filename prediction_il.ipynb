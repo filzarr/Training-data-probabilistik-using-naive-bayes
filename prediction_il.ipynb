{
  "nbformat": 4,
  "nbformat_minor": 0,
  "metadata": {
    "colab": {
      "provenance": [],
      "authorship_tag": "ABX9TyNIBzBjjVGHQPGGjb1ALKA1",
      "include_colab_link": true
    },
    "kernelspec": {
      "name": "python3",
      "display_name": "Python 3"
    },
    "language_info": {
      "name": "python"
    }
  },
  "cells": [
    {
      "cell_type": "markdown",
      "metadata": {
        "id": "view-in-github",
        "colab_type": "text"
      },
      "source": [
        "<a href=\"https://colab.research.google.com/github/filzarr/Training-data-probabilistik-using-naive-bayes/blob/main/prediction_il.ipynb\" target=\"_parent\"><img src=\"https://colab.research.google.com/assets/colab-badge.svg\" alt=\"Open In Colab\"/></a>"
      ]
    },
    {
      "cell_type": "markdown",
      "source": [
        "Melakukan instalasi jcompl yang akan kita gunakan untuk training data"
      ],
      "metadata": {
        "id": "CiIU6LPJCsTT"
      }
    },
    {
      "cell_type": "code",
      "source": [
        "pip install jcopml"
      ],
      "metadata": {
        "id": "vN--xKMyrVJC"
      },
      "execution_count": null,
      "outputs": []
    },
    {
      "cell_type": "markdown",
      "source": [
        "Melakukan import library yang kita butuhkan untuk melakukan prediksi data disini kita menggunakan naive bayes maka dari itu kita menggunakan sklearn"
      ],
      "metadata": {
        "id": "_3xAxQzEDTFu"
      }
    },
    {
      "cell_type": "code",
      "source": [
        "\n",
        "import pandas as pd\n",
        "\n",
        "from sklearn.model_selection import train_test_split\n",
        "from sklearn.pipeline import Pipeline\n",
        "from sklearn.compose import ColumnTransformer\n",
        "from sklearn.preprocessing import OneHotEncoder, FunctionTransformer\n",
        "from sklearn.naive_bayes import GaussianNB\n",
        "from jcopml.pipeline import num_pipe, cat_pipe"
      ],
      "metadata": {
        "id": "tv7Ld5BDlYQz"
      },
      "execution_count": null,
      "outputs": []
    },
    {
      "cell_type": "markdown",
      "source": [
        "Melakukan pembacaan terhadap data, disini kita menggunakan data dalam format csv dan menyimpannya ke dalam variabel df"
      ],
      "metadata": {
        "id": "MoXxN0FaDe9J"
      }
    },
    {
      "cell_type": "code",
      "execution_count": null,
      "metadata": {
        "id": "2leRIqo8gjws"
      },
      "outputs": [],
      "source": [
        "df = pd.read_csv('/content/sample_data/survey lung cancer.csv')"
      ]
    },
    {
      "cell_type": "markdown",
      "source": [
        "Membaca setiap column yang ada pada file tersebut"
      ],
      "metadata": {
        "id": "KsXU10WDDpxj"
      }
    },
    {
      "cell_type": "code",
      "source": [
        "df.info()"
      ],
      "metadata": {
        "id": "MY8LH5-bm7xP"
      },
      "execution_count": null,
      "outputs": []
    },
    {
      "cell_type": "markdown",
      "source": [
        "Mengambil data 5 teratas dalam data tersebut menggunakan method head()"
      ],
      "metadata": {
        "id": "JEMx63AnD0Sa"
      }
    },
    {
      "cell_type": "code",
      "source": [
        "df.head().T"
      ],
      "metadata": {
        "id": "Hk3MAoaOmKY6"
      },
      "execution_count": null,
      "outputs": []
    },
    {
      "cell_type": "markdown",
      "source": [
        "Membaca jumlah baris dan kolom pada file tersebut"
      ],
      "metadata": {
        "id": "jOb3jJF8D8gE"
      }
    },
    {
      "cell_type": "code",
      "source": [
        "df.shape"
      ],
      "metadata": {
        "id": "E8jkIDtxmXfX"
      },
      "execution_count": null,
      "outputs": []
    },
    {
      "cell_type": "markdown",
      "source": [
        "Menghitung seluruh data yang duplikat agar data yang kita training dapat terhasil dengan baik"
      ],
      "metadata": {
        "id": "9mTngnbqEEuF"
      }
    },
    {
      "cell_type": "code",
      "source": [
        "df.duplicated().sum()"
      ],
      "metadata": {
        "id": "NNfHj3SCmc7r"
      },
      "execution_count": null,
      "outputs": []
    },
    {
      "cell_type": "markdown",
      "source": [
        "Melakukan drop terhadap seluruh data yang duplikat. dapat dilihat begitu kita membaca data kembali jumlah kolom yang awalnya 309 menjadi 276"
      ],
      "metadata": {
        "id": "zyVb1ioNEYJx"
      }
    },
    {
      "cell_type": "code",
      "source": [
        "df = df.drop_duplicates()\n",
        "df.shape"
      ],
      "metadata": {
        "id": "zjbAs1wyofGp"
      },
      "execution_count": null,
      "outputs": []
    },
    {
      "cell_type": "markdown",
      "source": [],
      "metadata": {
        "id": "ZbnsZhRfEjKs"
      }
    },
    {
      "cell_type": "code",
      "source": [
        "X = df.drop(columns=\"LUNG_CANCER\")\n",
        "y = df.LUNG_CANCER"
      ],
      "metadata": {
        "id": "wsbKJsHJmioz"
      },
      "execution_count": null,
      "outputs": []
    },
    {
      "cell_type": "code",
      "source": [
        "X_train, X_test, y_train, y_test = train_test_split(X, y, test_size=0.2, random_state=42)\n",
        "X_train.shape, X_test.shape, y_train.shape, y_test.shape"
      ],
      "metadata": {
        "id": "F9cFpO45rs1j"
      },
      "execution_count": null,
      "outputs": []
    },
    {
      "cell_type": "code",
      "source": [
        "\n",
        "preprocessor = ColumnTransformer([\n",
        "      ('numeric', num_pipe(), [\"AGE\",\"YELLOW_FINGERS\",\"ANXIETY\",\"PEER_PRESSURE\",\"CHRONIC DISEASE\",\"FATIGUE \",\"ALLERGY \",\"WHEEZING\",\"ALCOHOL CONSUMING\",\"COUGHING\",\"SHORTNESS OF BREATH\",\"SWALLOWING DIFFICULTY\",\"CHEST PAIN\"]),\n",
        "\n",
        "])"
      ],
      "metadata": {
        "id": "ffExXwHiuVLB"
      },
      "execution_count": null,
      "outputs": []
    },
    {
      "cell_type": "code",
      "source": [],
      "metadata": {
        "id": "FbUl0FMC6FSb"
      },
      "execution_count": null,
      "outputs": []
    },
    {
      "cell_type": "code",
      "source": [
        "from sklearn.naive_bayes import GaussianNB\n",
        "pipeline = Pipeline([\n",
        "    ('prep', preprocessor),\n",
        "    ('algo', GaussianNB())\n",
        "])"
      ],
      "metadata": {
        "id": "xYeImyFkz5ai"
      },
      "execution_count": null,
      "outputs": []
    },
    {
      "cell_type": "code",
      "source": [
        "pipeline.fit(X_train, y_train)"
      ],
      "metadata": {
        "id": "X_om2_AYz63b"
      },
      "execution_count": null,
      "outputs": []
    },
    {
      "cell_type": "code",
      "source": [
        "\n",
        "pipeline.score(X_train, y_train)"
      ],
      "metadata": {
        "id": "HSdvPRIMz8f8"
      },
      "execution_count": null,
      "outputs": []
    },
    {
      "cell_type": "code",
      "source": [
        "\n",
        "pipeline.score(X_test, y_test)"
      ],
      "metadata": {
        "id": "dDpm_up0z9t9"
      },
      "execution_count": null,
      "outputs": []
    },
    {
      "cell_type": "code",
      "source": [
        "from jcopml.plot import plot_confusion_matrix\n",
        "plot_confusion_matrix(X_train, y_train, X_test, y_test, pipeline)"
      ],
      "metadata": {
        "id": "qDQLHIhSz-63"
      },
      "execution_count": null,
      "outputs": []
    },
    {
      "cell_type": "code",
      "source": [
        "\n",
        "X_pred = pd.read_csv(\"/content/sample_data/test2.csv\")\n",
        "X_pred"
      ],
      "metadata": {
        "id": "590mYhz1_brF"
      },
      "execution_count": null,
      "outputs": []
    },
    {
      "cell_type": "code",
      "source": [
        "\n",
        "X_pred[\"LUNG_CANCER\"] = pipeline.predict(X_pred)\n",
        "X_pred"
      ],
      "metadata": {
        "id": "WSfBBXmsAuK3"
      },
      "execution_count": null,
      "outputs": []
    }
  ]
}